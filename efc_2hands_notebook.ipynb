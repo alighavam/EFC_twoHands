{
 "cells": [
  {
   "cell_type": "code",
   "execution_count": 14,
   "metadata": {},
   "outputs": [
    {
     "name": "stdout",
     "output_type": "stream",
     "text": [
      "[12129 19111 29212 92122]\n",
      "[12129 19111 29212 92122]\n",
      "[12129 19111 29212 92122]\n",
      "[12129 19111 29212 92122]\n",
      "[12129 19111 29212 92122]\n",
      "[12129 19111 29212 92122]\n",
      "[19111 29212 92122]\n",
      "[12129 29212 92122]\n",
      "[12129 19111 29212 92122]\n",
      "[100 100 100 100]\n"
     ]
    }
   ],
   "source": [
    "import pandas as pd\n",
    "import numpy as np\n",
    "\n",
    "chords = []\n",
    "for r in range(1,9):\n",
    "    x = pd.read_csv(f'./target/efc2_s105_day02_training_run{r}.tgt', sep='\\t')\n",
    "    print(np.unique(x['chordID']))\n",
    "    chords.append(x['chordID'])\n",
    "\n",
    "unique_values, counts = np.unique(chords, return_counts=True)\n",
    "print(unique_values)\n",
    "print(counts)\n"
   ]
  }
 ],
 "metadata": {
  "kernelspec": {
   "display_name": "Python 3",
   "language": "python",
   "name": "python3"
  },
  "language_info": {
   "codemirror_mode": {
    "name": "ipython",
    "version": 3
   },
   "file_extension": ".py",
   "mimetype": "text/x-python",
   "name": "python",
   "nbconvert_exporter": "python",
   "pygments_lexer": "ipython3",
   "version": "3.11.10"
  }
 },
 "nbformat": 4,
 "nbformat_minor": 2
}
